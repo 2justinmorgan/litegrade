{
  "nbformat": 4,
  "nbformat_minor": 0,
  "metadata": {
    "colab": {
      "name": "README.ipynb",
      "provenance": []
    },
    "kernelspec": {
      "name": "python3",
      "display_name": "Python 3"
    }
  },
  "cells": [
    {
      "cell_type": "markdown",
      "metadata": {
        "id": "a4D-TId0Q3Ua"
      },
      "source": [
        "# **litegrade**\n",
        "\n",
        "**litegrade** is a Python library that gives IPython notebook authors a simple and user friendly method of evaluating the learning retention of notebook readers. A few functionalities include:\n",
        "\n",
        "  - Implement in Jupyter and Google Colab notebook environments\n",
        "  - **ask** questions anywhere in an already written notebook\n",
        "  - **check** answers with an option of providing feedback\n",
        "  - **handin** and store answers at a selected server location\n",
        "  - **analyze** learning retention to improve notebook content\n",
        "\n",
        "# New Features!\n",
        "\n",
        "  - HTML and JavaScript interactive question formats\n",
        "\n",
        "You can also:\n",
        "  - Select database storage locations such as DynamoDB or Google Drive\n",
        "  - Customize question format and styles with CSS\n",
        "\n",
        "### How to Use\n",
        "\n",
        "Install the library "
      ]
    },
    {
      "cell_type": "code",
      "metadata": {
        "id": "WhFUK6bFRJfr"
      },
      "source": [
        "!pip install litegrade"
      ],
      "execution_count": null,
      "outputs": []
    },
    {
      "cell_type": "markdown",
      "metadata": {
        "id": "Dp5gbE50RKGd"
      },
      "source": [
        "Import the **begin** and **ask** library functions"
      ]
    },
    {
      "cell_type": "code",
      "metadata": {
        "id": "hVsCKEpdRUHL"
      },
      "source": [
        "from litegrade import begin, ask"
      ],
      "execution_count": 2,
      "outputs": []
    },
    {
      "cell_type": "markdown",
      "metadata": {
        "id": "gNfpq6FPXhDi"
      },
      "source": [
        "Invoke the **begin** function to get the \"Demo\" assignment questions that will be asked"
      ]
    },
    {
      "cell_type": "code",
      "metadata": {
        "id": "S9cdx_0fRfWR"
      },
      "source": [
        "begin(\"Demo\")"
      ],
      "execution_count": 14,
      "outputs": []
    },
    {
      "cell_type": "markdown",
      "metadata": {
        "id": "mWE4G8lqRUe5"
      },
      "source": [
        "\n",
        "Invoke the **ask** function to ask the reader a question about the notebook content"
      ]
    },
    {
      "cell_type": "code",
      "metadata": {
        "id": "yQG3k3X6XGka"
      },
      "source": [
        "ask(\"Recursion question\")"
      ],
      "execution_count": null,
      "outputs": []
    },
    {
      "cell_type": "markdown",
      "metadata": {
        "id": "S5OQHibfZFrP"
      },
      "source": [
        "Multiple checkbox selections is another available question format"
      ]
    },
    {
      "cell_type": "code",
      "metadata": {
        "id": "pIsNLdgVY9_M"
      },
      "source": [
        "ask(\"Multi-selection question\")"
      ],
      "execution_count": null,
      "outputs": []
    },
    {
      "cell_type": "markdown",
      "metadata": {
        "id": "3QLjWkYwRfnj"
      },
      "source": [
        "### Development\n",
        "\n",
        "Want to contribute to the **litegrade** project? Great!\n",
        "\n",
        "View some of our current [issues](https://github.com/2justinmorgan/litegrade/issues) on GitHub\n",
        "\n",
        "After pulling the **litegrade** repository, run the developer's setup script located in the project's home diretory. This will install any needed dependencies as well as create symbolic links used for testing.\n",
        "\n",
        "```sh\n",
        "$ ./dev_setup.sh\n",
        "```\n",
        "\n",
        "To run tests\n",
        "\n",
        "```sh\n",
        "$ pytest test/\n",
        "```\n",
        "\n",
        "To deploy to PyPi\n",
        "\n",
        "```sh\n",
        "$ . package/release\n",
        "```\n"
      ]
    }
  ]
}